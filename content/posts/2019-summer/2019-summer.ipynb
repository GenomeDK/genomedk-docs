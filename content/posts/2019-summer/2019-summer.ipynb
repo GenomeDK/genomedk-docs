{
 "cells": [
  {
   "cell_type": "code",
   "execution_count": 2,
   "metadata": {},
   "outputs": [
    {
     "data": {
      "text/html": [
       "<style>\n",
       "table { font-variant-numeric: tabular-nums; }\n",
       "</style>\n"
      ],
      "text/plain": [
       "<IPython.core.display.HTML object>"
      ]
     },
     "metadata": {},
     "output_type": "display_data"
    }
   ],
   "source": [
    "%%html\n",
    "<style>\n",
    "table { font-variant-numeric: tabular-nums; }\n",
    "</style>"
   ]
  },
  {
   "cell_type": "code",
   "execution_count": 5,
   "metadata": {},
   "outputs": [],
   "source": [
    "import seaborn as sns\n",
    "import numpy as np\n",
    "import pandas as pd\n",
    "import matplotlib.pyplot as plt\n",
    "import pymysql\n",
    "\n",
    "plt.rcParams['svg.fonttype'] = 'path'\n",
    "\n",
    "sns.set(font_scale=1.25)\n",
    "sns.set_style(\"white\", {\"font.sans-serif\": [\"AU Passata\"]})"
   ]
  },
  {
   "cell_type": "code",
   "execution_count": 6,
   "metadata": {},
   "outputs": [],
   "source": [
    "con = pymysql.connect(host='localhost', user='frontend', password='XXX', db='genomedk', charset='utf8', cursorclass=pymysql.cursors.DictCursor)"
   ]
  },
  {
   "cell_type": "code",
   "execution_count": 22,
   "metadata": {},
   "outputs": [],
   "source": [
    "def create_order(x=None, y=None, data=None, limit=None, order=None, estimator=None, **kwargs):\n",
    "    if limit is not None and order is not None:\n",
    "        raise ValueError('order must not be set when using limit')\n",
    "    \n",
    "    if limit is not None:\n",
    "        if isinstance(limit, tuple):\n",
    "            limit_to, ascending = limit\n",
    "        else:\n",
    "            limit_to, ascending = limit, False\n",
    "            \n",
    "        order = (\n",
    "            data.pivot_table(index=y, values=x, aggfunc=estimator)\n",
    "                .sort_values(by=x, ascending=ascending)\n",
    "        )\n",
    "        if limit is not None:\n",
    "            order = order.head(limit_to).index\n",
    "    return order\n",
    "\n",
    "\n",
    "def barplot(**kwargs):\n",
    "    order = create_order(**kwargs)\n",
    "    kwargs.pop('limit')\n",
    "    return sns.barplot(**kwargs, order=order)\n",
    "\n",
    "barplot.__doc__ = sns.barplot.__doc__"
   ]
  },
  {
   "cell_type": "markdown",
   "metadata": {},
   "source": [
    "# Users"
   ]
  },
  {
   "cell_type": "code",
   "execution_count": 64,
   "metadata": {},
   "outputs": [],
   "source": [
    "active_users = pd.read_sql_query(sql='select uid, organization from users where username <> \"root\" and state = \"active\"', con=con)"
   ]
  },
  {
   "cell_type": "code",
   "execution_count": 68,
   "metadata": {},
   "outputs": [
    {
     "data": {
      "text/plain": [
       "415"
      ]
     },
     "execution_count": 68,
     "metadata": {},
     "output_type": "execute_result"
    }
   ],
   "source": [
    "len(active_users)"
   ]
  },
  {
   "cell_type": "code",
   "execution_count": 67,
   "metadata": {},
   "outputs": [
    {
     "data": {
      "image/png": "[encoded data removed]",
      "text/plain": [
       "<Figure size 576x288 with 1 Axes>"
      ]
     },
     "metadata": {},
     "output_type": "display_data"
    }
   ],
   "source": [
    "fig, ax = plt.subplots(1, 1, figsize = (8, 4))\n",
    "sns.countplot(y='organization', data=active_users, order=users.organization.value_counts().head(5).index)\n",
    "sns.despine(offset=10)\n",
    "ax.set_ylabel('')\n",
    "ax.set_xlabel(\"Number of users\")\n",
    "sns.despine(offset=10)\n",
    "plt.tight_layout()\n",
    "plt.savefig('top5_users.svg', format='svg', transparent=True, bbox_inches='tight')"
   ]
  },
  {
   "cell_type": "markdown",
   "metadata": {},
   "source": [
    "# Compute"
   ]
  },
  {
   "cell_type": "code",
   "execution_count": 31,
   "metadata": {},
   "outputs": [],
   "source": [
    "billing_hours = pd.read_sql_query(sql='select * from billing_hours', con=con, parse_dates=['timestamp'])\n",
    "billing_hours = billing_hours.set_index('timestamp')\n",
    "billing_hours = billing_hours['2018-06-01':'2019-06-01']"
   ]
  },
  {
   "cell_type": "code",
   "execution_count": 33,
   "metadata": {},
   "outputs": [],
   "source": [
    "billing_hours['mio_billing_hours'] = billing_hours.billing_hours / 1e6\n",
    "billing_hours['mio_num_jobs'] = billing_hours.num_jobs / 1e6"
   ]
  },
  {
   "cell_type": "markdown",
   "metadata": {},
   "source": [
    "Cost of all billing hours used in the period, in millions:"
   ]
  },
  {
   "cell_type": "code",
   "execution_count": 37,
   "metadata": {},
   "outputs": [
    {
     "data": {
      "text/plain": [
       "2152262.1273143855"
      ]
     },
     "execution_count": 37,
     "metadata": {},
     "output_type": "execute_result"
    }
   ],
   "source": [
    "billing_hours.mio_billing_hours.sum() * 0.12 * 1e6"
   ]
  },
  {
   "cell_type": "markdown",
   "metadata": {},
   "source": [
    "Number of jobs started in the period, in millions:"
   ]
  },
  {
   "cell_type": "code",
   "execution_count": 38,
   "metadata": {},
   "outputs": [
    {
     "data": {
      "text/plain": [
       "11.560784000000002"
      ]
     },
     "execution_count": 38,
     "metadata": {},
     "output_type": "execute_result"
    }
   ],
   "source": [
    "billing_hours.mio_num_jobs.sum()"
   ]
  },
  {
   "cell_type": "markdown",
   "metadata": {},
   "source": [
    "Busiest day:"
   ]
  },
  {
   "cell_type": "code",
   "execution_count": 39,
   "metadata": {},
   "outputs": [
    {
     "data": {
      "text/plain": [
       "Timestamp('2018-07-26 00:00:00', freq='D')"
      ]
     },
     "execution_count": 39,
     "metadata": {},
     "output_type": "execute_result"
    }
   ],
   "source": [
    "billing_hours.mio_num_jobs.resample('1D').sum().idxmax()"
   ]
  },
  {
   "cell_type": "code",
   "execution_count": 40,
   "metadata": {},
   "outputs": [
    {
     "data": {
      "text/plain": [
       "390223"
      ]
     },
     "execution_count": 40,
     "metadata": {},
     "output_type": "execute_result"
    }
   ],
   "source": [
    "int(round(billing_hours.mio_num_jobs.resample('1D').sum().max() * 1e6))"
   ]
  },
  {
   "cell_type": "markdown",
   "metadata": {},
   "source": [
    "## Top five organizations"
   ]
  },
  {
   "cell_type": "code",
   "execution_count": 43,
   "metadata": {},
   "outputs": [
    {
     "data": {
      "image/png": "[encoded data removed]",
      "text/plain": [
       "<Figure size 576x288 with 1 Axes>"
      ]
     },
     "metadata": {},
     "output_type": "display_data"
    }
   ],
   "source": [
    "billing_hours_per_org = pd.merge(\n",
    "    left=billing_hours,\n",
    "    right=users,\n",
    "    on='uid'\n",
    ").pivot_table(\n",
    "    index='organization',\n",
    "    values='mio_billing_hours',\n",
    "    aggfunc='sum'\n",
    ").sort_values(\n",
    "    'mio_billing_hours',\n",
    "    ascending=False\n",
    ").reset_index()\n",
    "\n",
    "fig, ax = plt.subplots(1, 1, figsize=(8, 4))\n",
    "sns.barplot(\n",
    "    y='organization', \n",
    "    x='mio_billing_hours',\n",
    "    data=billing_hours_per_org,\n",
    "    ci=None,\n",
    "    estimator=np.sum,\n",
    "    order=billing_hours_per_org.groupby('organization').mio_billing_hours.sum().sort_values(ascending=False).iloc[:5].index,\n",
    "    ax=ax,\n",
    ")\n",
    "\n",
    "ax.set_ylabel('')\n",
    "ax.set_xlabel(\"Mio. billing hours\")\n",
    "sns.despine(offset=10)\n",
    "plt.tight_layout()\n",
    "plt.savefig('top5_organizations.svg', format='svg', transparent=True, bbox_inches='tight')"
   ]
  },
  {
   "cell_type": "markdown",
   "metadata": {},
   "source": [
    "## Activity map"
   ]
  },
  {
   "cell_type": "code",
   "execution_count": 44,
   "metadata": {},
   "outputs": [],
   "source": [
    "weekday_cat = pd.CategoricalDtype(categories=['Monday', 'Tuesday', 'Wednesday', 'Thursday', 'Friday', 'Saturday', 'Sunday'], ordered=True)"
   ]
  },
  {
   "cell_type": "code",
   "execution_count": 45,
   "metadata": {},
   "outputs": [
    {
     "data": {
      "image/png": "[encoded data removed]",
      "text/plain": [
       "<Figure size 864x576 with 1 Axes>"
      ]
     },
     "metadata": {},
     "output_type": "display_data"
    }
   ],
   "source": [
    "fig, ax = plt.subplots(1, 1, figsize = (12, 8))\n",
    "\n",
    "billing_hours.assign(\n",
    "    dayofweek=billing_hours.index.weekday_name.astype(weekday_cat),\n",
    "    hour=billing_hours.index.hour,\n",
    ").pivot_table(\n",
    "    index='dayofweek',\n",
    "    columns='hour',\n",
    "    values='mio_num_jobs',\n",
    "    aggfunc='sum',\n",
    ").pipe(\n",
    "    sns.heatmap,\n",
    "    cbar=False,\n",
    "    square=True,\n",
    "    cmap=sns.cubehelix_palette(light=1, as_cmap=True),\n",
    ")\n",
    "\n",
    "ax.set_ylabel('Day of week')\n",
    "ax.set_xlabel('Hour of day')\n",
    "sns.despine(offset=10, left=True, bottom=True)\n",
    "plt.tight_layout()\n",
    "plt.savefig('activity_week.svg', format='svg', transparent=True, bbox_inches='tight')"
   ]
  },
  {
   "cell_type": "markdown",
   "metadata": {},
   "source": [
    "# Storage"
   ]
  },
  {
   "cell_type": "code",
   "execution_count": 46,
   "metadata": {},
   "outputs": [],
   "source": [
    "projects = pd.read_sql_query(sql='select * from projects', con=con)"
   ]
  },
  {
   "cell_type": "code",
   "execution_count": 47,
   "metadata": {},
   "outputs": [],
   "source": [
    "stor_proj = pd.read_sql_query(sql='select * from storage_project', con=con, parse_dates=['timestamp'])\n",
    "stor_proj = stor_proj.set_index('timestamp')"
   ]
  },
  {
   "cell_type": "code",
   "execution_count": 48,
   "metadata": {},
   "outputs": [],
   "source": [
    "stor_proj = stor_proj['2019-06-08']\n",
    "stor_proj['num_files'] = stor_proj['backup_bytes']"
   ]
  },
  {
   "cell_type": "markdown",
   "metadata": {},
   "source": [
    "Largest projects by number of files, in millions:"
   ]
  },
  {
   "cell_type": "code",
   "execution_count": 54,
   "metadata": {},
   "outputs": [
    {
     "data": {
      "text/html": [
       "<div>\n",
       "<style scoped>\n",
       "    .dataframe tbody tr th:only-of-type {\n",
       "        vertical-align: middle;\n",
       "    }\n",
       "\n",
       "    .dataframe tbody tr th {\n",
       "        vertical-align: top;\n",
       "    }\n",
       "\n",
       "    .dataframe thead th {\n",
       "        text-align: right;\n",
       "    }\n",
       "</style>\n",
       "<table border=\"1\" class=\"dataframe\">\n",
       "  <thead>\n",
       "    <tr style=\"text-align: right;\">\n",
       "      <th></th>\n",
       "      <th>num_files</th>\n",
       "    </tr>\n",
       "    <tr>\n",
       "      <th>name</th>\n",
       "      <th></th>\n",
       "    </tr>\n",
       "  </thead>\n",
       "  <tbody>\n",
       "    <tr>\n",
       "      <th>IGdata</th>\n",
       "      <td>68.092513</td>\n",
       "    </tr>\n",
       "    <tr>\n",
       "      <th>MammalianMutation</th>\n",
       "      <td>21.433107</td>\n",
       "    </tr>\n",
       "    <tr>\n",
       "      <th>MomaRAWfiles</th>\n",
       "      <td>21.044522</td>\n",
       "    </tr>\n",
       "    <tr>\n",
       "      <th>norfab</th>\n",
       "      <td>13.345776</td>\n",
       "    </tr>\n",
       "    <tr>\n",
       "      <th>NChain</th>\n",
       "      <td>13.205542</td>\n",
       "    </tr>\n",
       "    <tr>\n",
       "      <th>MomaDiagnostics</th>\n",
       "      <td>12.085268</td>\n",
       "    </tr>\n",
       "    <tr>\n",
       "      <th>MolGen</th>\n",
       "      <td>10.145219</td>\n",
       "    </tr>\n",
       "    <tr>\n",
       "      <th>spider2</th>\n",
       "      <td>8.145851</td>\n",
       "    </tr>\n",
       "    <tr>\n",
       "      <th>DanishPanGenome2</th>\n",
       "      <td>8.036533</td>\n",
       "    </tr>\n",
       "    <tr>\n",
       "      <th>PCAWG</th>\n",
       "      <td>7.582115</td>\n",
       "    </tr>\n",
       "  </tbody>\n",
       "</table>\n",
       "</div>"
      ],
      "text/plain": [
       "                   num_files\n",
       "name                        \n",
       "IGdata             68.092513\n",
       "MammalianMutation  21.433107\n",
       "MomaRAWfiles       21.044522\n",
       "norfab             13.345776\n",
       "NChain             13.205542\n",
       "MomaDiagnostics    12.085268\n",
       "MolGen             10.145219\n",
       "spider2             8.145851\n",
       "DanishPanGenome2    8.036533\n",
       "PCAWG               7.582115"
      ]
     },
     "execution_count": 54,
     "metadata": {},
     "output_type": "execute_result"
    }
   ],
   "source": [
    "stor_proj.merge(\n",
    "    projects, on='gid'\n",
    ").pivot_table(\n",
    "    index='name',\n",
    "    values=['num_files'],\n",
    "    aggfunc='sum'\n",
    ").sort_values(\n",
    "    'num_files', ascending=False\n",
    ").head(10) / 1e6"
   ]
  },
  {
   "cell_type": "markdown",
   "metadata": {},
   "source": [
    "Largest projects by size, in terabytes:"
   ]
  },
  {
   "cell_type": "code",
   "execution_count": 56,
   "metadata": {},
   "outputs": [
    {
     "data": {
      "text/html": [
       "<div>\n",
       "<style scoped>\n",
       "    .dataframe tbody tr th:only-of-type {\n",
       "        vertical-align: middle;\n",
       "    }\n",
       "\n",
       "    .dataframe tbody tr th {\n",
       "        vertical-align: top;\n",
       "    }\n",
       "\n",
       "    .dataframe thead th {\n",
       "        text-align: right;\n",
       "    }\n",
       "</style>\n",
       "<table border=\"1\" class=\"dataframe\">\n",
       "  <thead>\n",
       "    <tr style=\"text-align: right;\">\n",
       "      <th></th>\n",
       "      <th>usage_bytes</th>\n",
       "    </tr>\n",
       "    <tr>\n",
       "      <th>name</th>\n",
       "      <th></th>\n",
       "    </tr>\n",
       "  </thead>\n",
       "  <tbody>\n",
       "    <tr>\n",
       "      <th>DBS_Exomes</th>\n",
       "      <td>370.939389</td>\n",
       "    </tr>\n",
       "    <tr>\n",
       "      <th>DanishPanGenome2</th>\n",
       "      <td>329.343493</td>\n",
       "    </tr>\n",
       "    <tr>\n",
       "      <th>MammalianMutation</th>\n",
       "      <td>302.308475</td>\n",
       "    </tr>\n",
       "    <tr>\n",
       "      <th>RetroVirus</th>\n",
       "      <td>245.870299</td>\n",
       "    </tr>\n",
       "    <tr>\n",
       "      <th>MolGen</th>\n",
       "      <td>190.988718</td>\n",
       "    </tr>\n",
       "    <tr>\n",
       "      <th>iPSYCH_BAM</th>\n",
       "      <td>190.045887</td>\n",
       "    </tr>\n",
       "    <tr>\n",
       "      <th>ExomeSeqClinical</th>\n",
       "      <td>154.101864</td>\n",
       "    </tr>\n",
       "    <tr>\n",
       "      <th>IGdata</th>\n",
       "      <td>146.507772</td>\n",
       "    </tr>\n",
       "    <tr>\n",
       "      <th>CUP_classification</th>\n",
       "      <td>114.080331</td>\n",
       "    </tr>\n",
       "    <tr>\n",
       "      <th>simons</th>\n",
       "      <td>110.074018</td>\n",
       "    </tr>\n",
       "  </tbody>\n",
       "</table>\n",
       "</div>"
      ],
      "text/plain": [
       "                    usage_bytes\n",
       "name                           \n",
       "DBS_Exomes           370.939389\n",
       "DanishPanGenome2     329.343493\n",
       "MammalianMutation    302.308475\n",
       "RetroVirus           245.870299\n",
       "MolGen               190.988718\n",
       "iPSYCH_BAM           190.045887\n",
       "ExomeSeqClinical     154.101864\n",
       "IGdata               146.507772\n",
       "CUP_classification   114.080331\n",
       "simons               110.074018"
      ]
     },
     "execution_count": 56,
     "metadata": {},
     "output_type": "execute_result"
    }
   ],
   "source": [
    "stor_proj.merge(\n",
    "    projects, on='gid'\n",
    ").pivot_table(\n",
    "    index='name',\n",
    "    values=['usage_bytes'],\n",
    "    aggfunc='sum'\n",
    ").sort_values(\n",
    "    'usage_bytes', ascending=False\n",
    ").head(10) / 1e12"
   ]
  },
  {
   "cell_type": "markdown",
   "metadata": {},
   "source": [
    "Now compute the total storage usage per organization and sum it up in a nice plot..."
   ]
  },
  {
   "cell_type": "code",
   "execution_count": 58,
   "metadata": {},
   "outputs": [],
   "source": [
    "stor_home = pd.read_sql_query(sql='select * from storage_home', con=con)\n",
    "stor_home = stor_home.set_index('timestamp')"
   ]
  },
  {
   "cell_type": "code",
   "execution_count": 61,
   "metadata": {},
   "outputs": [
    {
     "name": "stderr",
     "output_type": "stream",
     "text": [
      "/Users/das/.pyenv/versions/miniconda3-latest/envs/genomedk-newsletter-summer-2019/lib/python3.7/site-packages/ipykernel_launcher.py:4: SettingWithCopyWarning: \n",
      "A value is trying to be set on a copy of a slice from a DataFrame.\n",
      "Try using .loc[row_indexer,col_indexer] = value instead\n",
      "\n",
      "See the caveats in the documentation: http://pandas.pydata.org/pandas-docs/stable/indexing.html#indexing-view-versus-copy\n",
      "  after removing the cwd from sys.path.\n"
     ]
    }
   ],
   "source": [
    "stor_home_per_user = stor_home['2019-06-08']\n",
    "\n",
    "# Switch around backup_bytes and num_files because of insertion mistake in database...\n",
    "stor_home_per_user['num_files'] = stor_home_per_user['backup_bytes']\n",
    "stor_home_per_user = stor_home_per_user.groupby(['timestamp', 'uid']).usage_bytes.sum().reset_index()"
   ]
  },
  {
   "cell_type": "code",
   "execution_count": 62,
   "metadata": {},
   "outputs": [],
   "source": [
    "stor_proj_per_user = stor_proj['2019-06-08']\n",
    "# Switch around backup_bytes and num_files because of insertion mistake in database...\n",
    "stor_proj_per_user['num_files'] = stor_proj_per_user['backup_bytes']\n",
    "stor_proj_per_user = stor_proj_per_user.groupby(['timestamp', 'uid']).usage_bytes.sum().reset_index()"
   ]
  },
  {
   "cell_type": "code",
   "execution_count": 63,
   "metadata": {},
   "outputs": [
    {
     "data": {
      "image/png": "[encoded data removed]",
      "text/plain": [
       "<Figure size 576x288 with 1 Axes>"
      ]
     },
     "metadata": {},
     "output_type": "display_data"
    }
   ],
   "source": [
    "fig, ax = plt.subplots(1, 1, figsize=(8, 4))\n",
    "\n",
    "usage_per_organization = (\n",
    "    pd.concat([stor_proj_per_user, stor_home_per_user])\n",
    "      .groupby('uid')\n",
    "      .sum()\n",
    "      .merge(users, on='uid')\n",
    "      .assign(usage_tb=lambda df: df['usage_bytes'] / 1e12)\n",
    "      .pipe((barplot, 'data'), y='organization', x='usage_tb', ci=None, estimator=np.sum, ax=ax, limit=5)\n",
    ")\n",
    "\n",
    "ax.set_ylabel('')\n",
    "ax.set_xlabel('TB used')\n",
    "sns.despine(offset=10)\n",
    "plt.tight_layout()\n",
    "plt.savefig('top5_organizations_storage.svg', format='svg', transparent=True, bbox_inches='tight')"
   ]
  },
  {
   "cell_type": "code",
   "execution_count": null,
   "metadata": {},
   "outputs": [],
   "source": []
  }
 ],
 "metadata": {
  "kernelspec": {
   "display_name": "Python 3",
   "language": "python",
   "name": "python3"
  },
  "language_info": {
   "codemirror_mode": {
    "name": "ipython",
    "version": 3
   },
   "file_extension": ".py",
   "mimetype": "text/x-python",
   "name": "python",
   "nbconvert_exporter": "python",
   "pygments_lexer": "ipython3",
   "version": "3.7.3"
  }
 },
 "nbformat": 4,
 "nbformat_minor": 2
}
